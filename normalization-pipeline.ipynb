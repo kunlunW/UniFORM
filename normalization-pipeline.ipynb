{
 "cells": [
  {
   "cell_type": "code",
   "execution_count": null,
   "id": "482f7990-106e-4f92-a749-56fa89bcc961",
   "metadata": {},
   "outputs": [],
   "source": [
    "import matplotlib.pyplot as plt\n",
    "import numpy as np\n",
    "import skfda\n",
    "import os\n",
    "import sys\n",
    "import random\n",
    "import time\n",
    "import tifffile\n",
    "import shutil\n",
    "import zarr\n",
    "import csv\n",
    "import numpy as np\n",
    "import pandas as pd\n",
    "import dask.array as da\n",
    "from matplotlib import pyplot as plt\n",
    "from typing import Union, List\n",
    "from pathlib import Path\n",
    "from tifffile import imread\n",
    "from glob import glob\n",
    "from tqdm import tqdm\n",
    "from scipy import interpolate\n",
    "\n",
    "from skimage import exposure\n",
    "from skfda.representation.basis import FDataBasis\n",
    "from skimage.io import imread, imshow, imsave\n",
    "from skimage.transform import rescale, resize\n",
    "\n",
    "import numpy as np\n",
    "from scipy.signal import correlate\n",
    "from scipy.interpolate import interp1d\n",
    "import pickle\n",
    "\n",
    "from exploratory_data_analysis import process_samples\n",
    "from normalize import correlation_based_normalization, calculate_correlations_and_divergences, adjust_shifted_histograms, normalize_and_plot_distributions, plot_distributions\n",
    "from image_transformation import calculate_shift_in_log_pixels, process_and_save_markers\n",
    "\n",
    "import warnings\n",
    "warnings.filterwarnings('ignore')"
   ]
  },
  {
   "cell_type": "markdown",
   "id": "bd5a06bd-4341-4483-b5eb-cc29c20df9f0",
   "metadata": {},
   "source": [
    "# Load tiff images as dask arrays for most efficient memory use"
   ]
  },
  {
   "cell_type": "code",
   "execution_count": null,
   "id": "10e3f354-e11e-4add-bc3b-0b160de04997",
   "metadata": {},
   "outputs": [],
   "source": [
    "# for loading image files (ome-tiff) to dask array\n",
    "def tifffile_to_dask(im_fp: Union[str, Path]) -> Union[da.array, List[da.Array]]:\n",
    "    imdata = zarr.open(tifffile.imread(im_fp, aszarr=True))\n",
    "    if isinstance(imdata, zarr.hierarchy.Group):\n",
    "        imdata = [da.from_zarr(imdata[z]) for z in imdata.array_keys()]\n",
    "    else:\n",
    "        imdata = da.from_zarr(imdata)\n",
    "    return imdata"
   ]
  },
  {
   "cell_type": "markdown",
   "id": "9f0f146d-d0b1-4ffd-8062-734138b53b3d",
   "metadata": {},
   "source": [
    "# Load your dataset\n",
    "\n",
    "* you should change the file path accordingly over here"
   ]
  },
  {
   "cell_type": "code",
   "execution_count": null,
   "id": "6dc01599-a13f-47ef-923e-458c02a5f74b",
   "metadata": {},
   "outputs": [],
   "source": [
    "## Directories\n",
    "crc_dir = \"/home/groups/ChangLab/dataset/Orion_CRC/\"\n",
    "\n",
    "# CRC 01 saved to different location\n",
    "crc01_dir = '/home/groups/ChangLab/dataset/Orion_CRC/CRC01/registration'\n",
    "crc01_fname = 'P37_S29_A24_C59kX_E15__at__20220106_014304_946511.ome.tiff'\n",
    "\n",
    "# file names for all CRC slides in numeric order\n",
    "crc_if_fnames = [\n",
    "    os.path.join(crc01_dir, crc01_fname),\n",
    "    os.path.join(crc_dir, 'CRC02/P37_S30_A24_C59kX_E15_20220106_014319_409148-zlib.ome.tiff'),\n",
    "    os.path.join(crc_dir, 'CRC03/P37_S31_A24_C59kX_E15_20220106_014409_014236-zlib.ome.tiff'),\n",
    "    os.path.join(crc_dir, 'CRC04/P37_S32_A24_C59kX_E15_20220106_014630_553652-zlib.ome.tiff'),\n",
    "    os.path.join(crc_dir, 'CRC05/P37_S33_A24_C59kX_E15_20220107_180446_881530-zlib.ome.tiff'),\n",
    "    os.path.join(crc_dir, 'CRC06/P37_S34_A24_C59kX_E15_20220107_202112_212579-zlib.ome.tiff')\n",
    "                ]\n",
    "\n",
    "# if your tiff images have several pyramid levels, then you should use the second resolution (which is 10X, 0.65um)\n",
    "crc_dask_arrays = [tifffile_to_dask(fname)[1] for fname in crc_if_fnames]"
   ]
  },
  {
   "cell_type": "markdown",
   "id": "4ba2867e-3193-4cab-970a-588118e038a9",
   "metadata": {},
   "source": [
    "# Read the metadata "
   ]
  },
  {
   "cell_type": "code",
   "execution_count": null,
   "id": "5e177b53-9967-427d-b07a-5e46071582e9",
   "metadata": {},
   "outputs": [],
   "source": [
    "with open(os.path.join(crc_dir+\"CRC02\", 'markers.csv'), newline = '') as f:\n",
    "    reader = csv.reader(f)\n",
    "    marker_list = [x[0] for x in list(reader)]"
   ]
  },
  {
   "cell_type": "code",
   "execution_count": null,
   "id": "8edbd895-1401-491f-9af8-6e480c168911",
   "metadata": {},
   "outputs": [],
   "source": [
    "sample_names = [\"CRC01\", \"CRC02\", \"CRC03\", \"CRC04\", \"CRC05\", \"CRC06\"]\n",
    "\n",
    "\n",
    "tissue_mask_paths = {\n",
    "    \"CRC01\": \"/home/groups/ChangLab/dataset/Orion_CRC/CRC01/CRC01_reinhard_mask.tiff\",\n",
    "    \"CRC02\": \"/home/groups/ChangLab/dataset/Orion_CRC/CRC02/CRC02_reinhard_mask.tiff\",\n",
    "    \"CRC03\": \"/home/groups/ChangLab/dataset/Orion_CRC/CRC03/CRC03_reinhard_mask.tiff\",\n",
    "    \"CRC04\": \"/home/groups/ChangLab/dataset/Orion_CRC/CRC04/CRC04_reinhard_mask.tiff\",\n",
    "    \"CRC05\": \"/home/groups/ChangLab/dataset/Orion_CRC/CRC05/CRC05_reinhard_mask.tiff\",\n",
    "    \"CRC06\": \"/home/groups/ChangLab/dataset/Orion_CRC/CRC06/CRC06_reinhard_mask.tiff\",\n",
    "}\n",
    "\n",
    "\n",
    "xlims = [\n",
    "    None,  # Limits for the first marker\n",
    "    (4.5, 6.5),  # Limits for the second marker\n",
    "    (4.8, 5.8),\n",
    "    (4.75, 6.0),\n",
    "    \n",
    "    (5.0, 6.0),\n",
    "    (5, 5.6),\n",
    "    (4.75, 6),\n",
    "    (5, 5.6),\n",
    "    \n",
    "    (5, 5.7),\n",
    "    (4.5, 7),\n",
    "    (5, 5.8),\n",
    "    (4, 7),\n",
    "    \n",
    "    (4.75, 6.25), \n",
    "    (4.5, 6.5), \n",
    "    (4.5, 6.0), \n",
    "    (5, 6.0), \n",
    "    \n",
    "    (5, 6),\n",
    "    (4.5, 6.5),\n",
    "    (4.5, 6.5) \n",
    "] \n",
    "\n",
    "ylims = [\n",
    "    (0, 4e6),   # Limits for the first marker\n",
    "] + [None] * 18  # Use full range for the remaining markers\n",
    "\n"
   ]
  },
  {
   "cell_type": "markdown",
   "id": "e9f41ebd-7ac2-4796-b0e1-09cf8d778122",
   "metadata": {},
   "source": [
    "# EDA to see varations in histograms"
   ]
  },
  {
   "cell_type": "code",
   "execution_count": null,
   "id": "d8e36b6d-57c5-4e6a-bd8d-606634e9ab35",
   "metadata": {},
   "outputs": [],
   "source": [
    "# This is the command for when you do not use the tissue mask (using all pixels)\n",
    "results_range, results_hist = process_samples(\n",
    "    crc_dask_arrays=crc_dask_arrays, \n",
    "    sample_names=sample_names, \n",
    "    marker_list=marker_list, \n",
    "    bin_counts=1024, \n",
    "    subplots_per_row=4, \n",
    "    if_grid=True, \n",
    "    tissue_mask=True, \n",
    "    tissue_mask_paths=tissue_mask_paths,\n",
    "    xlims=xlims,  # Define or leave as None if not using\n",
    "    ylims=ylims,  # Define or leave as None if not using\n",
    "    save_filename=\"crc01-04-all-markers-histograms-log-2nd-resolution.png\"\n",
    ")\n",
    "\n",
    "file_path = 'crc01-06-all-marker-2nd-resolution-range-list.pkl'  # Change this to your desired file path\n",
    "with open(file_path, 'wb') as file:\n",
    "    pickle.dump(results_range, file)\n",
    "    \n",
    "file_path = 'crc01-06-all-marker-2nd-resolution-hist-list.pkl'  # Change this to your desired file path\n",
    "with open(file_path, 'wb') as file:\n",
    "    pickle.dump(results_hist, file)"
   ]
  },
  {
   "cell_type": "markdown",
   "id": "6bb0b0a3-54dd-4baf-a3a7-450dee667d46",
   "metadata": {},
   "source": [
    "# Perform normalization"
   ]
  },
  {
   "cell_type": "code",
   "execution_count": null,
   "id": "6d273423-2ee7-4827-8d11-d801526b394d",
   "metadata": {},
   "outputs": [],
   "source": [
    "reference_sample = \"CRC01\"\n",
    "bin_counts = 1024\n",
    "xlim= [(300, 700) for _ in range(19)]\n",
    "\n",
    "# Normalize and plot distributions for each key\n",
    "shifts_fft_dict = normalize_and_plot_distributions(results_hist, marker_list, sample_names, reference_sample, bin_counts, xlim)"
   ]
  },
  {
   "cell_type": "code",
   "execution_count": null,
   "id": "f34cf4e9-7f10-4e1b-a842-e6ab9eab99dc",
   "metadata": {},
   "outputs": [],
   "source": []
  },
  {
   "cell_type": "markdown",
   "id": "7b0e7e27-298a-4360-a6a5-e47a1d7997f3",
   "metadata": {},
   "source": [
    "# Perform image transformation"
   ]
  },
  {
   "cell_type": "code",
   "execution_count": null,
   "id": "86cf33fa-ae22-48f3-bb1e-078abf440152",
   "metadata": {},
   "outputs": [],
   "source": [
    "# Calculate shift in log pixels\n",
    "shift_in_log_pixels_dict = calculate_shift_in_log_pixels(results_range, marker_list, bin_counts, shifts_fft_dict)\n",
    "\n",
    "output_directory = \"/home/groups/ChangLab/wangmar/shift-panel-reduction/shift-panel-reduction-main/landmark_normalization/cycif-normalization-pipeline\"\n",
    "reference_sample = \"CRC01\"\n",
    "reference_index = sample_names.index(reference_sample)\n",
    "\n",
    "# save stacked images\n",
    "process_and_stack_images(crc_dask_arrays, marker_list, shift_in_log_pixels_dict, reference_index, bin_counts, plot_dist=True, output_directory)"
   ]
  }
 ],
 "metadata": {
  "kernelspec": {
   "display_name": "Python 3 (ipykernel)",
   "language": "python",
   "name": "python3"
  },
  "language_info": {
   "codemirror_mode": {
    "name": "ipython",
    "version": 3
   },
   "file_extension": ".py",
   "mimetype": "text/x-python",
   "name": "python",
   "nbconvert_exporter": "python",
   "pygments_lexer": "ipython3",
   "version": "3.10.9"
  }
 },
 "nbformat": 4,
 "nbformat_minor": 5
}
